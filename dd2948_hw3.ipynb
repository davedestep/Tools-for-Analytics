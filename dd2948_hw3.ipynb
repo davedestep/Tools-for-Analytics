{
 "cells": [
  {
   "cell_type": "markdown",
   "metadata": {},
   "source": [
    "<subject>\n",
    "Assignment How-To\n",
    "</subject>\n",
    "\n",
    "<details>\n",
    "    \n",
    "**Do Not Talk During Quizzes or Exams**\n",
    "\n",
    "Do not talk at all once an exam has begun. You may talk again once you leave the room after the quiz or exam. The one exception to this rule is if you need to ask the exam proctor a question. Any talking during a quiz or exam qualifies the student for disciplinary action.\n",
    "\n",
    "**Naming Conventions**\n",
    "\n",
    "When naming your files for upload, you must follow the format below:\n",
    "\n",
    "    <uni>_<assignment>_<details [optional]>.<extension>\n",
    "\n",
    "For example, if I needed to hand in HW 0, any of the below formats would be sufficient for a file name:\n",
    "\n",
    "- pl2648_hw0.ipynb\n",
    "- pl2648_hw0.txt\n",
    "- pl2648_hw0.sh\n",
    "- pl2648_hw0_all_in_one.txt\n",
    "- Pl2648_hw0_bash_program.sh\n",
    "- Pl2648_quiz1.ipynb\n",
    "\n",
    "This naming format allows for autograding of all assignments. If your files are not named with this format, you should expect a grade of zero for the assignment.\n",
    "\n",
    "Courseworks may rename your file to something like `pl2648_hw0-1.ipynb` if you resubmit your assignment. This is perfectly fine.\n",
    "\n",
    "**What Format To Submit In**\n",
    "\n",
    "Most homework and quizzes are in Jupyter notebooks. Unless specified otherwise, please download your work as an `.ipynb` file from your local machine and upload it to courseworks.\n",
    "\n",
    "\n",
    "**Grading**\n",
    "\n",
    "Possible points on late assignments are deducted by 50% for each day they are late. For example, if you get 80% of the total possible credits on a homework but hand in that homework a day late, you would get 40%. Assignments two days late get zero points.\n",
    "\n",
    "Once solutions are posted and graded assignments are handed back, students have 1 week to bring their grading discrepancies to a CA for consideration of possible grading errors. \n",
    "\n",
    "Because grading is automated, please delete (or comment out) the `raise NotImplmeneted` code before attempting a problem. \n",
    "\n",
    "Empty un-editable cells in an assignment are there for a purpose. They will be filled with tests by the automatic grader. Please do not attempt to remove them.\n",
    "\n",
    "**Getting Help**\n",
    "\n",
    "Asking for help is a great way to increase your chance of success. However there are some rules. When asking for help (especially from a fellow student), *you can show your helper your code but you can not view theirs*. You work needs to be your own. You can not post screenshots of your current work to Piazza or other tools used for getting help.\n",
    "\n",
    "If you need to reach out to a CA for help, please do so via Piazza and not via email. Answers given via Piazza will help you as well as other students. Thus, emails will always have a lower priority for response than Piazza questions. If you do email the CA, please make a note of what section you are in. This helps us identify you in courseworks faster. \n",
    "\n",
    "Finally, if you do not get a repsonse from a CA within 48 hours, you may email the professor.\n",
    "\n",
    "**Multiple Choice**\n",
    "\n",
    "If the question is multiple choice, you will be given several options to choose from and your function will need to return **one** of those options **verbatim** as a string.\n",
    "\n",
    "For example: \n",
    "\n",
    "Which of the following animals bark?\n",
    "\n",
    "- dogs\n",
    "- cats\n",
    "- fish\n",
    "- trees\n",
    "\n",
    "A correct answer would be structured in the following way:\n",
    "\n",
    "```python\n",
    "def question_animals():\n",
    "    return 'dogs'\n",
    "```\n",
    "\n",
    "You answer will be stripped of left and right white space and lowercased before comparison to the correct answer during grading.\n",
    "</details>"
   ]
  },
  {
   "cell_type": "markdown",
   "metadata": {
    "deletable": false,
    "editable": false,
    "nbgrader": {
     "cell_type": "markdown",
     "checksum": "c6e44524e086d06b95342f5f4e3d03e0",
     "grade": false,
     "grade_id": "cell-2fb47dccb642e15c",
     "locked": true,
     "schema_version": 3,
     "solution": false
    }
   },
   "source": [
    "**Q**: Write a function `get_cubes` that builds a new list via a list comprehension. The list comprehension should contain in sorted order, all cubes for numbers between 0 a given number `x` if the number is divisible by 3.\n",
    "\n",
    "```python\n",
    ">>> get_cubes(10)\n",
    "[0, 27, 216, 729]\n",
    ">>> get_cubes(0)\n",
    "[]\n",
    ">>> get_cubes(9)\n",
    "[0, 27, 216]\n",
    "```\n",
    "\n",
    "[1 point]"
   ]
  },
  {
   "cell_type": "code",
   "execution_count": 46,
   "metadata": {
    "deletable": false,
    "nbgrader": {
     "cell_type": "code",
     "checksum": "49dfba28a97039ff9749e439786a9af1",
     "grade": false,
     "grade_id": "cell-70c782eb764fa9f9",
     "locked": false,
     "schema_version": 3,
     "solution": true
    }
   },
   "outputs": [
    {
     "data": {
      "text/plain": [
       "[0, 27, 216]"
      ]
     },
     "execution_count": 46,
     "metadata": {},
     "output_type": "execute_result"
    }
   ],
   "source": [
    "def get_cubes(x):\n",
    "    return [x**3 for x in range(x) if x % 3 == 0]\n",
    "get_cubes(9)"
   ]
  },
  {
   "cell_type": "code",
   "execution_count": 47,
   "metadata": {
    "deletable": false,
    "editable": false,
    "nbgrader": {
     "cell_type": "code",
     "checksum": "4e3ec5fabd32e3ab5dacca274238a32b",
     "grade": true,
     "grade_id": "cell-a6c8d30e831fe94e",
     "locked": true,
     "points": 0.5,
     "schema_version": 3,
     "solution": false
    }
   },
   "outputs": [],
   "source": [
    "### BEGIN TESTS\n",
    "assert get_cubes(9) == [0, 27, 216]\n",
    "### BEGIN TESTS"
   ]
  },
  {
   "cell_type": "code",
   "execution_count": null,
   "metadata": {
    "deletable": false,
    "editable": false,
    "nbgrader": {
     "cell_type": "code",
     "checksum": "1abaaad5a979645e33dce9ae74e512e5",
     "grade": true,
     "grade_id": "cell-f25ee1a76203c90e",
     "locked": true,
     "points": 0,
     "schema_version": 3,
     "solution": false
    }
   },
   "outputs": [],
   "source": []
  },
  {
   "cell_type": "code",
   "execution_count": null,
   "metadata": {
    "deletable": false,
    "editable": false,
    "nbgrader": {
     "cell_type": "code",
     "checksum": "2519d769a2c6250325775774c15d0dac",
     "grade": true,
     "grade_id": "cell-7f2062eecdd55c4f",
     "locked": true,
     "points": 0.5,
     "schema_version": 3,
     "solution": false
    }
   },
   "outputs": [],
   "source": []
  },
  {
   "cell_type": "markdown",
   "metadata": {
    "deletable": false,
    "editable": false,
    "nbgrader": {
     "cell_type": "markdown",
     "checksum": "4638037a707da459ebbb72795bcabc80",
     "grade": false,
     "grade_id": "cell-167931e7f704d2be",
     "locked": true,
     "schema_version": 3,
     "solution": false
    }
   },
   "source": [
    "**Q**: The function call `random.choice(string.ascii_lowercase)` returns a random lowercased ASCII letter. Create a function `get_count` that returns the number of unique letters returned by `x` sequential calls of `random.choice(string.ascii_lowercase)`. Your function should use a set comprehension.\n",
    "\n",
    "```python\n",
    ">>> get_count(10)\n",
    "8\n",
    ">>> get_count(10)\n",
    "7\n",
    ">>> get_count(10)\n",
    "9\n",
    ">>> get_count(7)\n",
    "5\n",
    "```\n",
    "\n",
    "[1 point]"
   ]
  },
  {
   "cell_type": "code",
   "execution_count": 95,
   "metadata": {
    "deletable": false,
    "nbgrader": {
     "cell_type": "code",
     "checksum": "5c723850eebabcd9f5b6dfa78ca25c61",
     "grade": false,
     "grade_id": "cell-00e884959ab1fddd",
     "locked": false,
     "schema_version": 3,
     "solution": true
    }
   },
   "outputs": [
    {
     "data": {
      "text/plain": [
       "6"
      ]
     },
     "execution_count": 95,
     "metadata": {},
     "output_type": "execute_result"
    }
   ],
   "source": [
    "import string\n",
    "import random\n",
    "\n",
    "def get_count(x):\n",
    "    l={random.choice(string.ascii_lowercase) for x in range(x)}\n",
    "    return len(l)\n",
    "\n",
    "get_count(10)"
   ]
  },
  {
   "cell_type": "code",
   "execution_count": 94,
   "metadata": {
    "deletable": false,
    "editable": false,
    "nbgrader": {
     "cell_type": "code",
     "checksum": "a793933996a5ae5260122ea2fe809fac",
     "grade": true,
     "grade_id": "cell-b57633eea1568b62",
     "locked": true,
     "points": 0.5,
     "schema_version": 3,
     "solution": false
    }
   },
   "outputs": [],
   "source": [
    "### BEGIN TESTS\n",
    "assert get_count(1) == 1\n",
    "assert get_count(5) <= 5\n",
    "assert get_count(10) <= 10\n",
    "### END TESTS"
   ]
  },
  {
   "cell_type": "code",
   "execution_count": null,
   "metadata": {
    "deletable": false,
    "editable": false,
    "nbgrader": {
     "cell_type": "code",
     "checksum": "b8baec8dbdd73cfacbde2ac3c216c20e",
     "grade": true,
     "grade_id": "cell-06fffca9a7420049",
     "locked": true,
     "points": 0.5,
     "schema_version": 3,
     "solution": false
    }
   },
   "outputs": [],
   "source": []
  },
  {
   "cell_type": "markdown",
   "metadata": {
    "deletable": false,
    "editable": false,
    "nbgrader": {
     "cell_type": "markdown",
     "checksum": "33baaa789c672b77bbb1c6f541db4000",
     "grade": false,
     "grade_id": "cell-7b5377e65fe73cf0",
     "locked": true,
     "schema_version": 3,
     "solution": false
    }
   },
   "source": [
    "**Q**: Create a function `get_debits` that takes a dictionary and returns a new dictionary were each key in the given dictionary is prefixed with \"debit\\_\" and each amount's value is multiplied by -1. The function should make use of a dictionary comprehension.\n",
    "\n",
    "\n",
    "```python\n",
    ">>> d = {'helicopter': 430, 'hanger': 75}\n",
    ">>> get_debits(d)\n",
    "{'debit_hanger': -75, 'debit_helicopter': -430}\n",
    "```\n",
    "\n",
    "[1 point]"
   ]
  },
  {
   "cell_type": "code",
   "execution_count": 141,
   "metadata": {
    "deletable": false,
    "nbgrader": {
     "cell_type": "code",
     "checksum": "7aeffa7b872f7b0f04b9ab647650f744",
     "grade": false,
     "grade_id": "cell-225b03fcb668cf76",
     "locked": false,
     "schema_version": 3,
     "solution": true
    }
   },
   "outputs": [
    {
     "data": {
      "text/plain": [
       "{'debit_helicopter': -430, 'debit_hanger': -75}"
      ]
     },
     "execution_count": 141,
     "metadata": {},
     "output_type": "execute_result"
    }
   ],
   "source": [
    "def get_debits(d):\n",
    "    dict_variable = {\"debit_\" + key:value*-1 for (key,value) in d.items()}\n",
    "    return dict_variable\n",
    "        \n",
    "d = {'helicopter': 430, 'hanger': 75}\n",
    "get_debits(d)"
   ]
  },
  {
   "cell_type": "code",
   "execution_count": 140,
   "metadata": {
    "deletable": false,
    "editable": false,
    "nbgrader": {
     "cell_type": "code",
     "checksum": "2440a9540b6ad9e49f69b4a7c13b6107",
     "grade": true,
     "grade_id": "cell-640e5124f8e53cbc",
     "locked": true,
     "points": 0.5,
     "schema_version": 3,
     "solution": false
    }
   },
   "outputs": [],
   "source": [
    "### BEGIN TESTS\n",
    "assert get_debits({'helicopter': 430, 'hanger': 75}) == {'debit_helicopter': -430, 'debit_hanger': -75}\n",
    "### END TESTS"
   ]
  },
  {
   "cell_type": "code",
   "execution_count": null,
   "metadata": {
    "deletable": false,
    "editable": false,
    "nbgrader": {
     "cell_type": "code",
     "checksum": "debe5eaa0ba00315bace2dd003f5f646",
     "grade": true,
     "grade_id": "cell-4ad3da6ea4b02b76",
     "locked": true,
     "points": 0.5,
     "schema_version": 3,
     "solution": false
    }
   },
   "outputs": [],
   "source": []
  },
  {
   "cell_type": "markdown",
   "metadata": {
    "deletable": false,
    "editable": false,
    "nbgrader": {
     "cell_type": "markdown",
     "checksum": "899fb35d1ad132ea0bf355b16522827a",
     "grade": false,
     "grade_id": "cell-57999bbfacc75b23",
     "locked": true,
     "schema_version": 3,
     "solution": false
    }
   },
   "source": [
    "**Q**: Create a Ceaser cipher. Implement a function `ceaser_encrypt` that takes some text (`plaintext`) and returns ciphertext. To compute the ciphertext, iterate through each letter in the plain text and replace it with the letter that is 13 characters forward in the ASCII alphabet. For letters that are too far towards the end of the alphabet, start back at the beginning of the alphabet and continue counting up to 13. The function should convert `plaintext` to lower case before operating on the text. All punctuation, numbers, and spaces should be ignored by the cipher.\n",
    "\n",
    "For example:\n",
    "\n",
    "```python\n",
    ">>> def ceaser_encrypt(plaintext):\n",
    "...     # implement me\n",
    "...     pass\n",
    "... \n",
    ">>> ceaser_encrypt('You rock!')\n",
    "'lbh ebpx!'\n",
    "```\n",
    "[1 point]\n",
    "\n",
    "For fun, see what the result is if you pass text encrypted by `ceaser_encrypt` back into `ceaser_encrypt`."
   ]
  },
  {
   "cell_type": "code",
   "execution_count": 181,
   "metadata": {
    "deletable": false,
    "nbgrader": {
     "cell_type": "code",
     "checksum": "0db3c75eea6e0cf5f2d708f757b22bd1",
     "grade": false,
     "grade_id": "cell-aad5279e1353f544",
     "locked": false,
     "schema_version": 3,
     "solution": true
    }
   },
   "outputs": [
    {
     "data": {
      "text/plain": [
       "'prnfre_rapelcg'"
      ]
     },
     "execution_count": 181,
     "metadata": {},
     "output_type": "execute_result"
    }
   ],
   "source": [
    "import string\n",
    "\n",
    "def caeser_encrypt(text, step, alphabets):\n",
    "\n",
    "    def shift(alphabet):\n",
    "        return alphabet[step:] + alphabet[:step]\n",
    "\n",
    "    shifted_alphabets = tuple(map(shift, alphabets))\n",
    "    joined_aphabets = ''.join(alphabets)\n",
    "    joined_shifted_alphabets = ''.join(shifted_alphabets)\n",
    "    table = str.maketrans(joined_aphabets, joined_shifted_alphabets)\n",
    "    return text.translate(table)\n",
    "\n",
    "alphabets = (string.ascii_lowercase, string.ascii_uppercase, string.digits)\n",
    "#caeser_encrypt('You rock!', step=13, alphabets=alphabets)\n",
    "\n",
    "ceaser_encrypt('clguba vf terng')\n",
    "\n",
    "\n",
    "ceaser_encrypt('ceaser_encrypt')"
   ]
  },
  {
   "cell_type": "code",
   "execution_count": 165,
   "metadata": {
    "deletable": false,
    "editable": false,
    "nbgrader": {
     "cell_type": "code",
     "checksum": "68581a176847abf5c5c1b06cdff61013",
     "grade": true,
     "grade_id": "cell-2b614b795bd55609",
     "locked": true,
     "points": 0.5,
     "schema_version": 3,
     "solution": false
    }
   },
   "outputs": [],
   "source": [
    "### BEGIN TESTS\n",
    "assert ceaser_encrypt('clguba vf terng') == 'python is great'\n",
    "### BEGIN TESTS"
   ]
  },
  {
   "cell_type": "code",
   "execution_count": null,
   "metadata": {
    "deletable": false,
    "editable": false,
    "nbgrader": {
     "cell_type": "code",
     "checksum": "85f023a62126ab2c795a64305db61a04",
     "grade": true,
     "grade_id": "cell-e0ac874facd027c9",
     "locked": true,
     "points": 0.5,
     "schema_version": 3,
     "solution": false
    }
   },
   "outputs": [],
   "source": []
  },
  {
   "cell_type": "markdown",
   "metadata": {
    "deletable": false,
    "editable": false,
    "nbgrader": {
     "cell_type": "markdown",
     "checksum": "ccf97051b90e9fd9b2570a1db4db0db4",
     "grade": false,
     "grade_id": "cell-ce6e6a4f81fa4f71",
     "locked": true,
     "schema_version": 3,
     "solution": false
    }
   },
   "source": [
    "**Q**: Write a function named `factorial` to find the factorial for a given number. The function should return an integer. You can assume the argument given is non-negative.\n",
    "\n",
    "```\n",
    ">>> factorial(3)\n",
    "6\n",
    "```\n",
    "\n",
    "[1 point]"
   ]
  },
  {
   "cell_type": "code",
   "execution_count": 185,
   "metadata": {
    "deletable": false,
    "nbgrader": {
     "cell_type": "code",
     "checksum": "9d43655bc26e30366717575fc58ef97c",
     "grade": false,
     "grade_id": "cell-e103feeaf57201f9",
     "locked": false,
     "schema_version": 3,
     "solution": true
    }
   },
   "outputs": [
    {
     "data": {
      "text/plain": [
       "6"
      ]
     },
     "execution_count": 185,
     "metadata": {},
     "output_type": "execute_result"
    }
   ],
   "source": [
    "import math \n",
    "\n",
    "def factorial(n):\n",
    "       return (math.factorial(n)) \n",
    "        \n",
    "factorial(3)"
   ]
  },
  {
   "cell_type": "code",
   "execution_count": 186,
   "metadata": {
    "deletable": false,
    "editable": false,
    "nbgrader": {
     "cell_type": "code",
     "checksum": "1542932662ed1281fbf88d67b3945413",
     "grade": true,
     "grade_id": "cell-9f0ec1966bdd4739",
     "locked": true,
     "points": 0.5,
     "schema_version": 3,
     "solution": false
    }
   },
   "outputs": [],
   "source": [
    "### BEGIN TESTS\n",
    "assert factorial(3) == 6\n",
    "### BEGIN TESTS"
   ]
  },
  {
   "cell_type": "code",
   "execution_count": null,
   "metadata": {
    "deletable": false,
    "editable": false,
    "nbgrader": {
     "cell_type": "code",
     "checksum": "1d9c8dc92615a6b5f15d747d0490d127",
     "grade": true,
     "grade_id": "cell-84c815a70530d4da",
     "locked": true,
     "points": 0.5,
     "schema_version": 3,
     "solution": false
    }
   },
   "outputs": [],
   "source": []
  },
  {
   "cell_type": "markdown",
   "metadata": {
    "deletable": false,
    "editable": false,
    "nbgrader": {
     "cell_type": "markdown",
     "checksum": "4c322a48a09117fb29235f0fb22a51c7",
     "grade": false,
     "grade_id": "cell-1c66e581fc567608",
     "locked": true,
     "schema_version": 3,
     "solution": false
    }
   },
   "source": [
    "**Extra Practice**: Write a script that acts like a stopwatch. You should be prompted to press enter to start the watch. Once the watch is running, you can create a lap by pressing enter again. Every time \"ENTER\" is pressed, the current lap time should be printed. Lap time is time that has elapsed since the last press of the \"ENTER\" button.\n",
    "\n",
    "```python\n",
    ">>> def timer():\n",
    "...     # implement me\n",
    "...     pass\n",
    ">>> timer()\n",
    "PRESS ENTER >\n",
    "LAP: 0.0\n",
    "PRESS ENTER >\n",
    "LAP: 2.182952880859375\n",
    "PRESS ENTER >\n",
    "LAP: 2.125649929046631\n",
    "PRESS ENTER >\n",
    "```\n",
    "\n",
    "[0 points]"
   ]
  },
  {
   "cell_type": "code",
   "execution_count": null,
   "metadata": {
    "deletable": false,
    "nbgrader": {
     "cell_type": "code",
     "checksum": "6cbe23fdc75ab5b33410abe394977d3c",
     "grade": false,
     "grade_id": "cell-b29f023d4c702a2f",
     "locked": false,
     "schema_version": 3,
     "solution": true
    }
   },
   "outputs": [],
   "source": [
    "import time\n",
    "\n",
    "def timer():\n",
    "    # YOUR CODE HERE\n",
    "    raise NotImplementedError()\n",
    "    \n",
    "# timer()  # uncomment me to test me out"
   ]
  }
 ],
 "metadata": {
  "anaconda-cloud": {},
  "kernelspec": {
   "display_name": "Python 3",
   "language": "python",
   "name": "python3"
  },
  "language_info": {
   "codemirror_mode": {
    "name": "ipython",
    "version": 3
   },
   "file_extension": ".py",
   "mimetype": "text/x-python",
   "name": "python",
   "nbconvert_exporter": "python",
   "pygments_lexer": "ipython3",
   "version": "3.6.5"
  }
 },
 "nbformat": 4,
 "nbformat_minor": 2
}
